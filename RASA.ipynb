{
  "nbformat": 4,
  "nbformat_minor": 0,
  "metadata": {
    "colab": {
      "provenance": [],
      "collapsed_sections": [],
      "authorship_tag": "ABX9TyM/HOo9R7uO+V7BF7oPEts+",
      "include_colab_link": true
    },
    "kernelspec": {
      "name": "python3",
      "display_name": "Python 3"
    },
    "language_info": {
      "name": "python"
    }
  },
  "cells": [
    {
      "cell_type": "markdown",
      "metadata": {
        "id": "view-in-github",
        "colab_type": "text"
      },
      "source": [
        "<a href=\"https://colab.research.google.com/github/NatanSomeone/RASA-DGP2022/blob/main/RASA.ipynb\" target=\"_parent\"><img src=\"https://colab.research.google.com/assets/colab-badge.svg\" alt=\"Open In Colab\"/></a>"
      ]
    },
    {
      "cell_type": "code",
      "source": [
        "!pip install jupyter_http_over_ws\n",
        "!jupyter serverextension enable --py jupyter_http_over_ws"
      ],
      "metadata": {
        "id": "9ARcKcCcjp-j"
      },
      "execution_count": null,
      "outputs": []
    },
    {
      "cell_type": "code",
      "source": [
        "import os, sys\n",
        "from google.colab import drive\n",
        "drive.mount('/content/drive')\n",
        "nb_path = '/content/notebooks'\n",
        "os.symlink('/content/drive/MyDrive/Meca-S09/DGP/RASA', nb_path)\n",
        "sys.path.insert(0,nb_path)"
      ],
      "metadata": {
        "id": "nAyEDaJ8rsTw",
        "colab": {
          "base_uri": "https://localhost:8080/"
        },
        "outputId": "1c2cb6bb-a7df-4e17-e029-5fa54ae3414f"
      },
      "execution_count": 2,
      "outputs": [
        {
          "output_type": "stream",
          "name": "stdout",
          "text": [
            "Mounted at /content/drive\n"
          ]
        }
      ]
    },
    {
      "cell_type": "code",
      "execution_count": null,
      "metadata": {
        "id": "TWylqqv1QDJt"
      },
      "outputs": [],
      "source": [
        "!pip install --target=$nb_path rasa"
      ]
    },
    {
      "cell_type": "code",
      "source": [
        "!pip install --target=$nb_path -U ipython"
      ],
      "metadata": {
        "id": "LGfhna_3Qytl",
        "colab": {
          "base_uri": "https://localhost:8080/",
          "height": 103
        },
        "outputId": "57da3232-f162-4076-c861-aca2cface146"
      },
      "execution_count": 4,
      "outputs": [
        {
          "output_type": "display_data",
          "data": {
            "application/vnd.colab-display-data+json": {
              "pip_warning": {
                "packages": [
                  "pexpect",
                  "pickleshare",
                  "wcwidth"
                ]
              }
            }
          },
          "metadata": {}
        }
      ]
    },
    {
      "cell_type": "code",
      "source": [
        "!pip install --target=$nb_path -U tables==3.6.1\n",
        "!python -m spacy download en\n",
        "!pip install --target=$nb_path nest_asyncio==1.3.3"
      ],
      "metadata": {
        "id": "pj0CAy-5rkOa"
      },
      "execution_count": null,
      "outputs": []
    },
    {
      "cell_type": "code",
      "source": [
        "import os\n",
        "import rasa\n",
        "import nest_asyncio\n",
        "\n",
        "nest_asyncio.apply()\n",
        "print(\"Event loop ready.\")"
      ],
      "metadata": {
        "id": "xTJVwRHcWCHe"
      },
      "execution_count": null,
      "outputs": []
    },
    {
      "cell_type": "code",
      "source": [
        "# from rasa.cli.scaffold import create_initial_project\n",
        "# project = \"/content/drive/MyDrive/Meca-S09/DGP/RASA/test-project\"\n",
        "# create_initial_project(project)"
      ],
      "metadata": {
        "id": "rz-kU8u6WEYo"
      },
      "execution_count": null,
      "outputs": []
    },
    {
      "cell_type": "code",
      "source": [
        "project = \"/content/drive/MyDrive/Meca-S09/DGP/RASA/test-project\"\n",
        "# move into project directory and show files\n",
        "os.chdir(project)\n",
        "print(os.listdir(\".\"))\n",
        "config = \"config.yml\"\n",
        "training_files = \"data/\"\n",
        "domain = \"domain.yml\"\n",
        "output = \"models/\"\n",
        "print(config, training_files, domain, output)"
      ],
      "metadata": {
        "colab": {
          "base_uri": "https://localhost:8080/"
        },
        "id": "CLsDVfBufnk6",
        "outputId": "a2275e40-44e4-40f6-fd8f-24ab513e085f"
      },
      "execution_count": null,
      "outputs": [
        {
          "output_type": "stream",
          "name": "stdout",
          "text": [
            "['endpoints.yml', 'credentials.yml', '__init__.py', 'config.yml', 'actions.py', 'tests', 'data', '__pycache__', 'models', 'domain.yml']\n",
            "config.yml data/ domain.yml models/\n"
          ]
        }
      ]
    },
    {
      "cell_type": "code",
      "source": [
        "model_path = rasa.train(domain, config, [training_files], output)\n",
        "print(model_path)"
      ],
      "metadata": {
        "colab": {
          "base_uri": "https://localhost:8080/"
        },
        "id": "88qeuxvOWv1n",
        "outputId": "460f6242-f16c-47a5-974b-f3206eb02ded"
      },
      "execution_count": null,
      "outputs": [
        {
          "output_type": "stream",
          "name": "stdout",
          "text": [
            "\u001b[92mNothing changed. You can use the old model stored at '/content/drive/MyDrive/Meca-S09/DGP/RASA/test-project/models/20220915-002709.tar.gz'.\u001b[0m\n",
            "models/20220915-002709.tar.gz\n"
          ]
        }
      ]
    },
    {
      "cell_type": "code",
      "source": [
        "from rasa.jupyter import chat\n",
        "\n",
        "endpoints = 'endpoints.yml'\n",
        "\n",
        "chat(model_path,endpoints)"
      ],
      "metadata": {
        "id": "Og6fDbL_W4sZ"
      },
      "execution_count": null,
      "outputs": []
    },
    {
      "cell_type": "code",
      "source": [
        "!rasa run --enable-api --cors \"*\""
      ],
      "metadata": {
        "colab": {
          "base_uri": "https://localhost:8080/"
        },
        "id": "Gi_QmTjHoaLQ",
        "outputId": "f7ba4239-80c6-450c-c74b-66978cc5fabf"
      },
      "execution_count": null,
      "outputs": [
        {
          "metadata": {
            "tags": null
          },
          "name": "stdout",
          "output_type": "stream",
          "text": [
            "2022-09-15 00:55:06 \u001b[1;30mINFO    \u001b[0m \u001b[34mroot\u001b[0m  - Generating grammar tables from /usr/lib/python3.7/lib2to3/Grammar.txt\n",
            "2022-09-15 00:55:06 \u001b[1;30mINFO    \u001b[0m \u001b[34mroot\u001b[0m  - Generating grammar tables from /usr/lib/python3.7/lib2to3/PatternGrammar.txt\n",
            "2022-09-15 00:55:06 \u001b[1;30mINFO    \u001b[0m \u001b[34mroot\u001b[0m  - Starting Rasa server on http://localhost:5005\n",
            "2022-09-15 00:55:07.571346: E tensorflow/stream_executor/cuda/cuda_driver.cc:351] failed call to cuInit: CUDA_ERROR_NO_DEVICE: no CUDA-capable device is detected\n",
            "2022-09-15 00:55:13 \u001b[1;30mINFO    \u001b[0m \u001b[34mroot\u001b[0m  - Rasa server is up and running.\n"
          ]
        }
      ]
    }
  ]
}