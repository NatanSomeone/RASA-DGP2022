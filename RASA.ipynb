{
  "nbformat": 4,
  "nbformat_minor": 0,
  "metadata": {
    "colab": {
      "provenance": [],
      "collapsed_sections": [],
      "authorship_tag": "ABX9TyPXFoOZuD4mstWHRYvrZ2Pp",
      "include_colab_link": true
    },
    "kernelspec": {
      "name": "python3",
      "display_name": "Python 3"
    },
    "language_info": {
      "name": "python"
    }
  },
  "cells": [
    {
      "cell_type": "markdown",
      "metadata": {
        "id": "view-in-github",
        "colab_type": "text"
      },
      "source": [
        "<a href=\"https://colab.research.google.com/github/NatanSomeone/RASA-DGP2022/blob/main/RASA.ipynb\" target=\"_parent\"><img src=\"https://colab.research.google.com/assets/colab-badge.svg\" alt=\"Open In Colab\"/></a>"
      ]
    },
    {
      "cell_type": "code",
      "source": [
        "import os, sys\n",
        "from google.colab import drive\n",
        "drive.mount('/content/drive')\n",
        "nb_path = '/content/notebooks'\n",
        "os.symlink('/content/drive/MyDrive/Meca-S09/DGP/RASA_2', nb_path)\n",
        "sys.path.insert(0,nb_path)"
      ],
      "metadata": {
        "id": "nAyEDaJ8rsTw"
      },
      "execution_count": null,
      "outputs": []
    },
    {
      "cell_type": "code",
      "source": [
        " !pip install --target=$nb_path jupyter_http_over_ws\n",
        " !jupyter serverextension enable --py jupyter_http_over_ws"
      ],
      "metadata": {
        "id": "9ARcKcCcjp-j"
      },
      "execution_count": null,
      "outputs": []
    },
    {
      "cell_type": "code",
      "execution_count": null,
      "metadata": {
        "id": "TWylqqv1QDJt"
      },
      "outputs": [],
      "source": [
        "# !pip install --target=$nb_path rasa\n",
        "!pip install --target=$nb_path rasa==1.10.3"
      ]
    },
    {
      "cell_type": "code",
      "source": [
        "!pip install --target=$nb_path -U ipython"
      ],
      "metadata": {
        "id": "LGfhna_3Qytl"
      },
      "execution_count": null,
      "outputs": []
    },
    {
      "cell_type": "code",
      "source": [
        "!pip install --target=$nb_path -U tables==3.6.1\n",
        "!python -m spacy download pt\n",
        "!pip install --target=$nb_path nest_asyncio==1.3.3"
      ],
      "metadata": {
        "id": "pj0CAy-5rkOa"
      },
      "execution_count": null,
      "outputs": []
    },
    {
      "cell_type": "code",
      "source": [
        "import os\n",
        "import rasa\n",
        "import nest_asyncio\n",
        "\n",
        "nest_asyncio.apply()\n",
        "print(\"Event loop ready.\")"
      ],
      "metadata": {
        "id": "xTJVwRHcWCHe"
      },
      "execution_count": null,
      "outputs": []
    },
    {
      "cell_type": "code",
      "source": [
        "# from rasa.cli.scaffold import create_initial_project\n",
        "# project = \"/content/drive/MyDrive/Meca-S09/DGP/RASA/test-project\"\n",
        "# create_initial_project(project)"
      ],
      "metadata": {
        "id": "rz-kU8u6WEYo"
      },
      "execution_count": null,
      "outputs": []
    },
    {
      "cell_type": "code",
      "source": [
        "project = \"/content/drive/MyDrive/Meca-S09/DGP/RASA/test-project\"\n",
        "# move into project directory and show files\n",
        "os.chdir(project)\n",
        "print(os.listdir(\".\"))\n",
        "config = \"config.yml\"\n",
        "training_files = \"data/\"\n",
        "domain = \"domain.yml\"\n",
        "output = \"models/\"\n",
        "print(config, training_files, domain, output)"
      ],
      "metadata": {
        "id": "CLsDVfBufnk6"
      },
      "execution_count": null,
      "outputs": []
    },
    {
      "cell_type": "code",
      "source": [
        "model_path = rasa.train(domain, config, [training_files], output)\n",
        "print(model_path)"
      ],
      "metadata": {
        "id": "88qeuxvOWv1n"
      },
      "execution_count": null,
      "outputs": []
    },
    {
      "cell_type": "code",
      "source": [
        "from rasa.jupyter import chat\n",
        "\n",
        "endpoints = 'endpoints.yml'\n",
        "\n",
        "chat(model_path,endpoints)"
      ],
      "metadata": {
        "id": "Og6fDbL_W4sZ"
      },
      "execution_count": null,
      "outputs": []
    },
    {
      "cell_type": "code",
      "source": [
        "!rasa run --enable-api --cors \"*\""
      ],
      "metadata": {
        "id": "Gi_QmTjHoaLQ"
      },
      "execution_count": null,
      "outputs": []
    }
  ]
}